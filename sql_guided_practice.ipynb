{
 "cells": [
  {
   "cell_type": "markdown",
   "id": "e2bccd9b",
   "metadata": {},
   "source": [
    "## Phase 1.06 - 1.07\n",
    "\n",
    "# SQL and Relational Databases"
   ]
  },
  {
   "cell_type": "markdown",
   "id": "a8ad3cce",
   "metadata": {},
   "source": [
    "## What is a Database?\n",
    "- In general, databases store sets of data that can be queried for use in other applications. \n",
    "- A database management system supports the development, administration and use of database platforms."
   ]
  },
  {
   "cell_type": "markdown",
   "id": "d7dbc146",
   "metadata": {
    "id": "bAXMam2mXlUm"
   },
   "source": [
    "\n",
    "### What is a Relational Database? \n",
    "- A *relational database management system* (**RDBMS**) is a type of DBMS with a row-based table structure that connects related data elements and includes functions that maintain the security, accuracy, integrity and consistency of the data.\n",
    "- The most basic **RDBMS** functions are related to *create, read, update and delete* operations, collectively known as **CRUD**."
   ]
  },
  {
   "cell_type": "markdown",
   "id": "b5e09980",
   "metadata": {},
   "source": [
    "## Using SQL in Python\n",
    "\n",
    "\n",
    "We're going to play around with this Pokemon database!\n",
    "\n",
    "<img src='https://raw.githubusercontent.com/yishuen/studygroups-070620pt/master/mod-1/images/pokemon_db.png'>"
   ]
  },
  {
   "cell_type": "markdown",
   "id": "ea8ea46a",
   "metadata": {
    "id": "EHQmpZ0-XlUn"
   },
   "source": [
    "### What is SQL?\n",
    "\n",
    "- **SQL** (usually pronounced like the word “sequel”) stands for Structured Query Language.\n",
    "- A programming language used to communicate with data stored in a **RDBMS** (relational database management system).\n",
    "- SQL syntax is similar to the English language, which makes it relatively easy to write, read, and interpret."
   ]
  },
  {
   "cell_type": "code",
   "execution_count": null,
   "id": "6ad2f9be",
   "metadata": {
    "ExecuteTime": {
     "end_time": "2022-03-09T22:00:43.855228Z",
     "start_time": "2022-03-09T22:00:43.396533Z"
    }
   },
   "outputs": [],
   "source": [
    "import pandas as pd\n",
    "import sqlite3"
   ]
  },
  {
   "cell_type": "markdown",
   "id": "679b548e",
   "metadata": {
    "id": "yZRDCYBXXlUn"
   },
   "source": [
    "### Schema\n",
    "A relational database schema helps you to organize and understand the structure of a database by showing how all of the tables are related to each other.\n",
    "<img src='https://github.com/yishuen/studygroups-070620pt/blob/master/mod-1/images/employees-schema.png?raw=1'>"
   ]
  },
  {
   "cell_type": "markdown",
   "id": "a6d16793",
   "metadata": {},
   "source": [
    "### Relationships\n",
    "\n",
    "The logical association among entities is called relationship. Relationships are mapped between entities in various ways. \n",
    "\n",
    "**Relationship Mappings**\n",
    "\n",
    "- one to one\n",
    "- one to many\n",
    "- many to many\n"
   ]
  },
  {
   "cell_type": "code",
   "execution_count": null,
   "id": "c182163d",
   "metadata": {
    "ExecuteTime": {
     "end_time": "2022-03-09T22:00:43.868460Z",
     "start_time": "2022-03-09T22:00:43.858064Z"
    }
   },
   "outputs": [],
   "source": [
    "# Connecting to the database.\n",
    "conn = sqlite3.connect('data/pokemon.db')\n",
    "conn"
   ]
  },
  {
   "cell_type": "code",
   "execution_count": null,
   "id": "0cdbb38d",
   "metadata": {
    "ExecuteTime": {
     "end_time": "2022-03-09T22:00:43.874741Z",
     "start_time": "2022-03-09T22:00:43.870423Z"
    }
   },
   "outputs": [],
   "source": [
    "# Look at the cursor.\n",
    "cur = conn.cursor()\n",
    "cur"
   ]
  },
  {
   "cell_type": "code",
   "execution_count": null,
   "id": "2ed529aa",
   "metadata": {
    "ExecuteTime": {
     "end_time": "2022-03-09T22:00:43.881486Z",
     "start_time": "2022-03-09T22:00:43.876962Z"
    }
   },
   "outputs": [],
   "source": [
    "# Executing a query.\n",
    "cur.execute('SELECT * FROM pokemon')"
   ]
  },
  {
   "cell_type": "code",
   "execution_count": null,
   "id": "66214dc6",
   "metadata": {
    "ExecuteTime": {
     "end_time": "2022-03-09T22:00:43.889614Z",
     "start_time": "2022-03-09T22:00:43.885071Z"
    }
   },
   "outputs": [],
   "source": [
    "# Showing the description.\n",
    "cur.description"
   ]
  },
  {
   "cell_type": "code",
   "execution_count": null,
   "id": "cd6a5e6e",
   "metadata": {
    "ExecuteTime": {
     "end_time": "2022-03-09T22:00:43.897160Z",
     "start_time": "2022-03-09T22:00:43.892096Z"
    }
   },
   "outputs": [],
   "source": [
    "# Get column names - longhand.\n",
    "my_lst = []\n",
    "for x in cur.description:\n",
    "    my_lst.append(x[0])\n",
    "my_lst"
   ]
  },
  {
   "cell_type": "code",
   "execution_count": null,
   "id": "f13532d2",
   "metadata": {
    "ExecuteTime": {
     "end_time": "2022-03-09T22:00:43.907132Z",
     "start_time": "2022-03-09T22:00:43.900715Z"
    }
   },
   "outputs": [],
   "source": [
    "# Get column names - shorthand.\n",
    "[x[0] for x in cur.description]"
   ]
  },
  {
   "cell_type": "code",
   "execution_count": null,
   "id": "fa808619",
   "metadata": {
    "ExecuteTime": {
     "end_time": "2022-03-09T22:00:43.955061Z",
     "start_time": "2022-03-09T22:00:43.914549Z"
    },
    "scrolled": true
   },
   "outputs": [],
   "source": [
    "# Return the query.\n",
    "cur.fetchall()"
   ]
  },
  {
   "cell_type": "code",
   "execution_count": null,
   "id": "828c7c14",
   "metadata": {
    "ExecuteTime": {
     "end_time": "2022-03-09T22:00:43.963576Z",
     "start_time": "2022-03-09T22:00:43.957908Z"
    }
   },
   "outputs": [],
   "source": [
    "# Try to return the query again!\n",
    "cur.fetchall()"
   ]
  },
  {
   "cell_type": "markdown",
   "id": "364dc4ac",
   "metadata": {
    "id": "TnZ2e4qrXlUt"
   },
   "source": [
    "### Parts of a SQL Query\n",
    "* `SELECT ... FROM ...`: Which columns from which table\n",
    "* `WHERE`: Conditions to filter your query by\n",
    "* `JOIN`: Put tables together\n",
    "* `GROUP BY`: Group and aggregate data\n",
    "* `HAVING`: Filtering after a `GROUP BY`\n",
    "* `ORDER BY`: How to sort the table\n",
    "* `LIMIT`: How many rows to query"
   ]
  },
  {
   "cell_type": "markdown",
   "id": "7914705e",
   "metadata": {
    "ExecuteTime": {
     "end_time": "2022-01-27T00:24:06.013618Z",
     "start_time": "2022-01-27T00:24:05.827204Z"
    }
   },
   "source": [
    "`read_sql()` in Pandas!\n",
    ">```python\n",
    "> pd.read_sql('YOUR QUERY HERE', conn)\n",
    ">```"
   ]
  },
  {
   "cell_type": "code",
   "execution_count": null,
   "id": "f003196f",
   "metadata": {
    "ExecuteTime": {
     "end_time": "2022-03-09T22:00:44.111500Z",
     "start_time": "2022-03-09T22:00:43.967560Z"
    }
   },
   "outputs": [],
   "source": [
    "pd.read_sql('SELECT * FROM pokemon', conn)"
   ]
  },
  {
   "cell_type": "markdown",
   "id": "3e829c37",
   "metadata": {},
   "source": [
    "#### Q1"
   ]
  },
  {
   "cell_type": "code",
   "execution_count": null,
   "id": "89e8820b",
   "metadata": {
    "ExecuteTime": {
     "end_time": "2022-03-09T22:00:44.134058Z",
     "start_time": "2022-03-09T22:00:44.114071Z"
    }
   },
   "outputs": [],
   "source": [
    "# Select all pokemon from the pokemon table.\n",
    "q1 = \"\"\"\n",
    "\n",
    "\"\"\"\n",
    "\n",
    "pd.read_sql(q1, conn)"
   ]
  },
  {
   "cell_type": "markdown",
   "id": "7bfefa19",
   "metadata": {},
   "source": [
    "#### Q2"
   ]
  },
  {
   "cell_type": "code",
   "execution_count": null,
   "id": "72761117",
   "metadata": {
    "ExecuteTime": {
     "end_time": "2022-03-09T22:00:44.145595Z",
     "start_time": "2022-03-09T22:00:44.135846Z"
    }
   },
   "outputs": [],
   "source": [
    "# Select all the rows from pokemon_types where the type_id is 3.\n",
    "q2 = \"\"\"\n",
    "\n",
    "\"\"\"\n",
    "\n",
    "pd.read_sql(q2, conn)"
   ]
  },
  {
   "cell_type": "markdown",
   "id": "d1176702",
   "metadata": {},
   "source": [
    "#### Q3"
   ]
  },
  {
   "cell_type": "code",
   "execution_count": null,
   "id": "9bb00807",
   "metadata": {
    "ExecuteTime": {
     "end_time": "2022-03-09T22:00:44.163470Z",
     "start_time": "2022-03-09T22:00:44.148610Z"
    }
   },
   "outputs": [],
   "source": [
    "# Select the rows from pokemon_types where the associated type is \"water\".\n",
    "q3 = \"\"\"\n",
    "\n",
    "\"\"\"\n",
    "\n",
    "pd.read_sql(q3, conn)"
   ]
  },
  {
   "cell_type": "markdown",
   "id": "07fbf93c",
   "metadata": {},
   "source": [
    "#### Q4"
   ]
  },
  {
   "cell_type": "code",
   "execution_count": null,
   "id": "79705cb1",
   "metadata": {
    "ExecuteTime": {
     "end_time": "2022-03-09T22:00:44.180531Z",
     "start_time": "2022-03-09T22:00:44.166612Z"
    }
   },
   "outputs": [],
   "source": [
    "# Find the average weight for each type.\n",
    "### Order the results from highest weight to lowest weight. \n",
    "### Display the type name next to the average weight.\n",
    "q4 = \"\"\"\n",
    "\n",
    "\"\"\"\n",
    "\n",
    "pd.read_sql(q4, conn)"
   ]
  },
  {
   "cell_type": "markdown",
   "id": "e4079b26",
   "metadata": {},
   "source": [
    "#### Q5"
   ]
  },
  {
   "cell_type": "code",
   "execution_count": null,
   "id": "4a85cab6",
   "metadata": {
    "ExecuteTime": {
     "end_time": "2022-03-09T22:00:44.196406Z",
     "start_time": "2022-03-09T22:00:44.183351Z"
    }
   },
   "outputs": [],
   "source": [
    "# Find the names and ids the pokemon that have more than 1 type.\n",
    "q5 = \"\"\"\n",
    "\n",
    "\"\"\"\n",
    "\n",
    "pd.read_sql(q5, conn)"
   ]
  },
  {
   "cell_type": "markdown",
   "id": "dd7568c8",
   "metadata": {},
   "source": [
    "#### Q6"
   ]
  },
  {
   "cell_type": "code",
   "execution_count": null,
   "id": "f2be93b4",
   "metadata": {
    "ExecuteTime": {
     "end_time": "2022-03-09T22:00:44.211381Z",
     "start_time": "2022-03-09T22:00:44.199049Z"
    }
   },
   "outputs": [],
   "source": [
    "# Find the id of the type that has the most pokemon.\n",
    "### Display type_id next to the number of pokemon having that type.\n",
    "q6 = \"\"\"\n",
    "\n",
    "\"\"\"\n",
    "\n",
    "pd.read_sql(q6, conn)"
   ]
  }
 ],
 "metadata": {
  "kernelspec": {
   "display_name": "Python 3",
   "language": "python",
   "name": "python3"
  },
  "language_info": {
   "codemirror_mode": {
    "name": "ipython",
    "version": 3
   },
   "file_extension": ".py",
   "mimetype": "text/x-python",
   "name": "python",
   "nbconvert_exporter": "python",
   "pygments_lexer": "ipython3",
   "version": "3.6.9"
  },
  "toc": {
   "base_numbering": 1,
   "nav_menu": {},
   "number_sections": false,
   "sideBar": true,
   "skip_h1_title": false,
   "title_cell": "Table of Contents",
   "title_sidebar": "Contents",
   "toc_cell": false,
   "toc_position": {
    "height": "calc(100% - 180px)",
    "left": "10px",
    "top": "150px",
    "width": "294px"
   },
   "toc_section_display": true,
   "toc_window_display": true
  }
 },
 "nbformat": 4,
 "nbformat_minor": 5
}
